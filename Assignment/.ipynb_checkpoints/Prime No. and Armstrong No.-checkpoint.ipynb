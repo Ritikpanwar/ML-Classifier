{
 "cells": [
  {
   "cell_type": "markdown",
   "metadata": {},
   "source": [
    "## Program for prime no. between 100 and 300"
   ]
  },
  {
   "cell_type": "code",
   "execution_count": 6,
   "metadata": {},
   "outputs": [
    {
     "name": "stdout",
     "output_type": "stream",
     "text": [
      "101 is Prime Number\n",
      "103 is Prime Number\n",
      "107 is Prime Number\n",
      "109 is Prime Number\n",
      "113 is Prime Number\n",
      "127 is Prime Number\n",
      "131 is Prime Number\n",
      "137 is Prime Number\n",
      "139 is Prime Number\n",
      "149 is Prime Number\n",
      "151 is Prime Number\n",
      "157 is Prime Number\n",
      "163 is Prime Number\n",
      "167 is Prime Number\n",
      "173 is Prime Number\n",
      "179 is Prime Number\n",
      "181 is Prime Number\n",
      "191 is Prime Number\n",
      "193 is Prime Number\n",
      "197 is Prime Number\n",
      "199 is Prime Number\n",
      "211 is Prime Number\n",
      "223 is Prime Number\n",
      "227 is Prime Number\n",
      "229 is Prime Number\n",
      "233 is Prime Number\n",
      "239 is Prime Number\n",
      "241 is Prime Number\n",
      "251 is Prime Number\n",
      "257 is Prime Number\n",
      "263 is Prime Number\n",
      "269 is Prime Number\n",
      "271 is Prime Number\n",
      "277 is Prime Number\n",
      "281 is Prime Number\n",
      "283 is Prime Number\n",
      "293 is Prime Number\n"
     ]
    }
   ],
   "source": [
    "#function for prime no.\n",
    "def prime(n):\n",
    "    c=0\n",
    "    for i in range(2,n):\n",
    "        if(n%i==0):\n",
    "            c=c+1\n",
    "    if(c==0):\n",
    "        print(\"{} is Prime Number\".format(n))\n",
    "# call function for 100 to 300\n",
    "for i in range(100,300):\n",
    "    prime(i)"
   ]
  },
  {
   "cell_type": "markdown",
   "metadata": {},
   "source": [
    "## program for armstrong no.\n"
   ]
  },
  {
   "cell_type": "code",
   "execution_count": 4,
   "metadata": {},
   "outputs": [
    {
     "name": "stdout",
     "output_type": "stream",
     "text": [
      "Enter the number which you want to check whether the number is armstrong or not.\n",
      "371\n",
      "371 is Armstrong Number\n"
     ]
    }
   ],
   "source": [
    "#functiom for armstrog no.\n",
    "\n",
    "def armstrong(n):\n",
    "    l=list(map(int,list(str(n))))\n",
    "    length=len(l)\n",
    "    temp=0\n",
    "    for i in range(length):\n",
    "        temp=temp+l[i]**length\n",
    "    if(n==temp):\n",
    "        print(\"{} is Armstrong Number\".format(n))\n",
    "    else:\n",
    "        print(\"{} is not Armstrong Number\".format(n))\n",
    "print(\"Enter the number which you want to check whether the number is armstrong or not.\")\n",
    "n=int(input())\n",
    "armstrong(n)"
   ]
  }
 ],
 "metadata": {
  "kernelspec": {
   "display_name": "Python 3",
   "language": "python",
   "name": "python3"
  },
  "language_info": {
   "codemirror_mode": {
    "name": "ipython",
    "version": 3
   },
   "file_extension": ".py",
   "mimetype": "text/x-python",
   "name": "python",
   "nbconvert_exporter": "python",
   "pygments_lexer": "ipython3",
   "version": "3.7.4"
  }
 },
 "nbformat": 4,
 "nbformat_minor": 2
}
